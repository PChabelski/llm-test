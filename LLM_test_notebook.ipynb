{
 "cells": [
  {
   "cell_type": "markdown",
   "id": "49763280-6e56-454c-8e55-2709bc9ce10f",
   "metadata": {},
   "source": [
    "# Following along with LLM Zoomcamp"
   ]
  },
  {
   "cell_type": "markdown",
   "id": "c78f27e6-a980-4cf9-aee2-23ca43c48641",
   "metadata": {},
   "source": [
    "### Module 1.2"
   ]
  },
  {
   "cell_type": "code",
   "execution_count": 1,
   "id": "3faad7dd-ac6c-4590-91f4-324bc194f4e9",
   "metadata": {},
   "outputs": [],
   "source": [
    "import openai\n",
    "from openai import OpenAI"
   ]
  },
  {
   "cell_type": "code",
   "execution_count": 2,
   "id": "fe00defa-d164-477a-9fc3-adb1ab01c556",
   "metadata": {},
   "outputs": [],
   "source": [
    "client = OpenAI()"
   ]
  },
  {
   "cell_type": "code",
   "execution_count": null,
   "id": "0f9045dd-c46a-4d62-bfd6-64338ee169b0",
   "metadata": {},
   "outputs": [],
   "source": [
    "# Sample methods available to use"
   ]
  },
  {
   "cell_type": "code",
   "execution_count": 3,
   "id": "c2194d6f-a14f-4b7b-bbc8-0e69c7955327",
   "metadata": {},
   "outputs": [
    {
     "data": {
      "text/plain": [
       "['__annotations__',\n",
       " '__class__',\n",
       " '__class_getitem__',\n",
       " '__delattr__',\n",
       " '__dict__',\n",
       " '__dir__',\n",
       " '__doc__',\n",
       " '__enter__',\n",
       " '__eq__',\n",
       " '__exit__',\n",
       " '__format__',\n",
       " '__ge__',\n",
       " '__getattribute__',\n",
       " '__getstate__',\n",
       " '__gt__',\n",
       " '__hash__',\n",
       " '__init__',\n",
       " '__init_subclass__',\n",
       " '__le__',\n",
       " '__lt__',\n",
       " '__module__',\n",
       " '__ne__',\n",
       " '__new__',\n",
       " '__orig_bases__',\n",
       " '__parameters__',\n",
       " '__reduce__',\n",
       " '__reduce_ex__',\n",
       " '__repr__',\n",
       " '__setattr__',\n",
       " '__sizeof__',\n",
       " '__str__',\n",
       " '__subclasshook__',\n",
       " '__weakref__',\n",
       " '_base_url',\n",
       " '_build_headers',\n",
       " '_build_request',\n",
       " '_calculate_retry_timeout',\n",
       " '_client',\n",
       " '_custom_headers',\n",
       " '_custom_query',\n",
       " '_default_stream_cls',\n",
       " '_enforce_trailing_slash',\n",
       " '_idempotency_header',\n",
       " '_idempotency_key',\n",
       " '_make_sse_decoder',\n",
       " '_make_status_error',\n",
       " '_make_status_error_from_response',\n",
       " '_maybe_override_cast_to',\n",
       " '_parse_retry_after_header',\n",
       " '_platform',\n",
       " '_prepare_options',\n",
       " '_prepare_request',\n",
       " '_prepare_url',\n",
       " '_process_response',\n",
       " '_process_response_data',\n",
       " '_request_api_list',\n",
       " '_serialize_multipartform',\n",
       " '_should_retry',\n",
       " '_should_stream_response_body',\n",
       " '_sleep_for_retry',\n",
       " '_strict_response_validation',\n",
       " '_validate_headers',\n",
       " '_version',\n",
       " 'api_key',\n",
       " 'audio',\n",
       " 'auth_headers',\n",
       " 'base_url',\n",
       " 'batches',\n",
       " 'beta',\n",
       " 'chat',\n",
       " 'close',\n",
       " 'completions',\n",
       " 'containers',\n",
       " 'copy',\n",
       " 'custom_auth',\n",
       " 'default_headers',\n",
       " 'default_query',\n",
       " 'delete',\n",
       " 'embeddings',\n",
       " 'evals',\n",
       " 'files',\n",
       " 'fine_tuning',\n",
       " 'get',\n",
       " 'get_api_list',\n",
       " 'images',\n",
       " 'is_closed',\n",
       " 'max_retries',\n",
       " 'models',\n",
       " 'moderations',\n",
       " 'organization',\n",
       " 'patch',\n",
       " 'platform_headers',\n",
       " 'post',\n",
       " 'project',\n",
       " 'put',\n",
       " 'qs',\n",
       " 'request',\n",
       " 'responses',\n",
       " 'timeout',\n",
       " 'uploads',\n",
       " 'user_agent',\n",
       " 'vector_stores',\n",
       " 'webhook_secret',\n",
       " 'webhooks',\n",
       " 'websocket_base_url',\n",
       " 'with_options',\n",
       " 'with_raw_response',\n",
       " 'with_streaming_response']"
      ]
     },
     "execution_count": 3,
     "metadata": {},
     "output_type": "execute_result"
    }
   ],
   "source": [
    "dir(client)"
   ]
  },
  {
   "cell_type": "code",
   "execution_count": null,
   "id": "81520ed1-bfd9-4f4d-9fa2-6c9e34dbd33e",
   "metadata": {},
   "outputs": [],
   "source": [
    "# send a message to the OpenAI LLM, using user role, to get a response"
   ]
  },
  {
   "cell_type": "code",
   "execution_count": 6,
   "id": "f54ddf03-944f-49c7-a410-a9d63478d811",
   "metadata": {},
   "outputs": [],
   "source": [
    "response = client.chat.completions.create(\n",
    "    model = 'gpt-4o',\n",
    "    messages=[{\"role\":\"user\",\"content\":\"how much do I have left in my api usage\"}]\n",
    "\n",
    ")"
   ]
  },
  {
   "cell_type": "code",
   "execution_count": 7,
   "id": "2a3572f0-1949-4e86-9dfb-a52593c64d12",
   "metadata": {},
   "outputs": [
    {
     "data": {
      "text/plain": [
       "\"I don't have access to your specific API account or its usage data. To check your API usage, you can typically refer to the developer or dashboard area of the service you're using. Many API providers offer usage metrics and limits in their management consoles or billing areas. If you are using a specific service, consult their documentation or customer support for guidance on how to access your usage information.\""
      ]
     },
     "execution_count": 7,
     "metadata": {},
     "output_type": "execute_result"
    }
   ],
   "source": [
    "response.choices[0].message.content"
   ]
  },
  {
   "cell_type": "markdown",
   "id": "6998479d-53c2-427a-9918-400f9e2ab8f4",
   "metadata": {},
   "source": [
    "### Module 1.3"
   ]
  },
  {
   "cell_type": "code",
   "execution_count": null,
   "id": "8a560fa2-59b9-4697-9fe2-3e9bfeaa111d",
   "metadata": {},
   "outputs": [],
   "source": []
  },
  {
   "cell_type": "code",
   "execution_count": null,
   "id": "fd7f27ad-de0b-44c0-8c64-85c7ffda5fc7",
   "metadata": {},
   "outputs": [],
   "source": []
  }
 ],
 "metadata": {
  "kernelspec": {
   "display_name": "Python 3 (ipykernel)",
   "language": "python",
   "name": "python3"
  },
  "language_info": {
   "codemirror_mode": {
    "name": "ipython",
    "version": 3
   },
   "file_extension": ".py",
   "mimetype": "text/x-python",
   "name": "python",
   "nbconvert_exporter": "python",
   "pygments_lexer": "ipython3",
   "version": "3.12.1"
  }
 },
 "nbformat": 4,
 "nbformat_minor": 5
}
